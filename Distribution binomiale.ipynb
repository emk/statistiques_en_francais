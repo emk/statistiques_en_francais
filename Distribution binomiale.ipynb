{
 "metadata": {
  "name": ""
 },
 "nbformat": 3,
 "nbformat_minor": 0,
 "worksheets": [
  {
   "cells": [
    {
     "cell_type": "markdown",
     "metadata": {},
     "source": [
      "# Distribution binomiale\n",
      "\n",
      "Il y a beaucoup de vid\u00e9os sur le [site de l'Acad\u00e9mie Khan](https://fr.khanacademy.org/) qui concernent la distribution binomiale. Je n'ai pas envie de r\u00e9viser autant de combinatoire de base, mais il y en a qui m'int\u00e9ressent.\n",
      "\n",
      "## L'esp\u00e8rance d'une distribution binomiale\n",
      "\n",
      "J'avais du mal avec ce sujet quand j'\u00e9tudias la distribution Poisson."
     ]
    },
    {
     "cell_type": "code",
     "collapsed": false,
     "input": [
      "from IPython.display import YouTubeVideo\n",
      "YouTubeVideo(\"sSLhCvlZN1w\")"
     ],
     "language": "python",
     "metadata": {},
     "outputs": [
      {
       "html": [
        "\n",
        "        <iframe\n",
        "            width=\"400\"\n",
        "            height=300\"\n",
        "            src=\"http://www.youtube.com/embed/sSLhCvlZN1w\"\n",
        "            frameborder=\"0\"\n",
        "            allowfullscreen\n",
        "        ></iframe>\n",
        "        "
       ],
       "metadata": {},
       "output_type": "pyout",
       "prompt_number": 1,
       "text": [
        "<IPython.lib.display.YouTubeVideo at 0x36cfb90>"
       ]
      }
     ],
     "prompt_number": 1
    },
    {
     "cell_type": "markdown",
     "metadata": {},
     "source": [
      "La loi binomiale. Oui, elle est \u00e9vidente avec un peu de combinatoire.\n",
      "\n",
      "$$P(X=k) = {n \\choose k}p^k(1 - p)^{n-k}$$\n",
      "\n",
      "Et l'esp\u00e8rance, ou la valeur pr\u00e9vue :\n",
      "\n",
      "$$\\begin{aligned}\n",
      "E(X) &= \\sum_{k=0}^{n} k{n \\choose k} p^k (1-p)^{n-k} \\\\\n",
      "     &= \\sum_{k=1}^{n} k{n \\choose k} p^k (1-p)^{n-k} \\quad &\\text{pas de terme quand }k=0 \\\\\n",
      "     &= \\sum_{k=1}^{n} k\\frac{n!}{(n-k)!k!} p^k (1-p)^{n-k} \\\\\n",
      "     &= np \\sum_{k=1}^{n} \\frac{(n-1)!}{(n-k)!(k-1)!} p^{k-1} (1-p)^{n-k} \\\\\n",
      "     &= np \\sum_{a=0}^{b} \\frac{b!}{(b-a)!a!} p^a (1-p)^{b-a} \\quad &\\text{soit }a=k-1\\text{ et }b=n-1 \\\\\n",
      "     &= np \\sum_{a=0}^{b} {b \\choose a} p^a (1-p)^{b-a} \\\\\n",
      "     &= np\n",
      "\\end{aligned}$$"
     ]
    }
   ],
   "metadata": {}
  }
 ]
}