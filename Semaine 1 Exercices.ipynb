{
 "metadata": {
  "name": ""
 },
 "nbformat": 3,
 "nbformat_minor": 0,
 "worksheets": [
  {
   "cells": [
    {
     "cell_type": "markdown",
     "metadata": {},
     "source": [
      "# Al\u00e9atoire : une Introduction aux Probabilit\u00e9s (semaine 1)\n",
      "\n",
      "J'ai cr\u00e9\u00e9 ce \u00ab notebook \u00bb avec [iPython Notebook](http://ipython.org/notebook.html), un syst\u00e8me gratuit (et \u00ab libre \u00bb) qui peut faire des calculs symboliques, cr\u00e9er des graphiques, afficher des expressions math\u00e9matiques avec $\\LaTeX$ et faire beaucoup d'autres choses utiles.\n",
      "\n",
      "On commence par configurer plusieurs biblioth\u00e8ques qu'on va utiliser bient\u00f4t."
     ]
    },
    {
     "cell_type": "code",
     "collapsed": false,
     "input": [
      "from sympy.interactive import printing\n",
      "printing.init_printing()\n",
      "import sympy as sym\n",
      "from sympy.mpmath import limit, inf\n",
      "from sympy import Rational as frac\n",
      "%pylab inline --no-import-all"
     ],
     "language": "python",
     "metadata": {},
     "outputs": [
      {
       "output_type": "stream",
       "stream": "stdout",
       "text": [
        "Populating the interactive namespace from numpy and matplotlib\n"
       ]
      }
     ],
     "prompt_number": 1
    },
    {
     "cell_type": "markdown",
     "metadata": {},
     "source": [
      "## Exercice 1 : Le \u00ab paradoxe \u00bb du chevalier de M\u00e9r\u00e9\n",
      "\n",
      "$$\\begin{aligned}\n",
      "\\Omega_1 & = \\{1,2,3,4,5,6\\}^4 \\\\\n",
      "\\mathbb{P}_1(\\omega_i) & = \\left(\\frac{1}{6}\\right)^4 \\\\\n",
      "\\mathbb{P}_1(A_1) & = 1-\\left(\\frac{5}{6}\\right)^4\n",
      "\\end{aligned}$$\n",
      "\n",
      "On calcule la probabilit\u00e9 de $A_1^C$, la probabilit\u00e9 qu'aucun 6 appara\u00eet dans 4 lancers d'un d\u00e9 \u00e0 6 faces, est on utilise \u00e7a pour calculer $\\mathbb{P}(A_1) = 1-\\mathbb{P}(A_1^C)$."
     ]
    },
    {
     "cell_type": "code",
     "collapsed": false,
     "input": [
      "1-frac(5,6)**4"
     ],
     "language": "python",
     "metadata": {},
     "outputs": [
      {
       "latex": [
        "$$\\frac{671}{1296}$$"
       ],
       "metadata": {},
       "output_type": "pyout",
       "png": "[encoded data removed]",
       "prompt_number": 2,
       "text": [
        "671 \n",
        "\u2500\u2500\u2500\u2500\n",
        "1296"
       ]
      }
     ],
     "prompt_number": 2
    },
    {
     "cell_type": "code",
     "collapsed": false,
     "input": [
      "1-(5.0/6)**4"
     ],
     "language": "python",
     "metadata": {},
     "outputs": [
      {
       "latex": [
        "$$0.51774691358$$"
       ],
       "metadata": {},
       "output_type": "pyout",
       "png": "[encoded data removed]",
       "prompt_number": 3,
       "text": [
        "0.51774691358"
       ]
      }
     ],
     "prompt_number": 3
    },
    {
     "cell_type": "markdown",
     "metadata": {},
     "source": [
      "$$\\begin{aligned}\n",
      "\\Omega_2 & = (\\{1,2,3,4,5,6\\} \\times \\{1,2,3,4,5,6\\})^{24} \\\\\n",
      "\\mathbb{P}_2(\\omega_i) & = \\left(\\frac{1}{36}\\right)^{24} \\\\\n",
      "\\mathbb{P}_2(A_2) &= 1 - \\left(\\frac{35}{36}\\right)^{24}\n",
      "\\end{aligned}$$"
     ]
    },
    {
     "cell_type": "code",
     "collapsed": false,
     "input": [
      "1-frac(35,36)**24"
     ],
     "language": "python",
     "metadata": {},
     "outputs": [
      {
       "latex": [
        "$$\\frac{11033126465283976852912127963392284191}{22452257707354557240087211123792674816}$$"
       ],
       "metadata": {},
       "output_type": "pyout",
       "png": "[encoded data removed]",
       "prompt_number": 4,
       "text": [
        "11033126465283976852912127963392284191\n",
        "\u2500\u2500\u2500\u2500\u2500\u2500\u2500\u2500\u2500\u2500\u2500\u2500\u2500\u2500\u2500\u2500\u2500\u2500\u2500\u2500\u2500\u2500\u2500\u2500\u2500\u2500\u2500\u2500\u2500\u2500\u2500\u2500\u2500\u2500\u2500\u2500\u2500\u2500\n",
        "22452257707354557240087211123792674816"
       ]
      }
     ],
     "prompt_number": 4
    },
    {
     "cell_type": "code",
     "collapsed": false,
     "input": [
      "1-(35.0/36)**24"
     ],
     "language": "python",
     "metadata": {},
     "outputs": [
      {
       "latex": [
        "$$0.491403876131$$"
       ],
       "metadata": {},
       "output_type": "pyout",
       "png": "[encoded data removed]",
       "prompt_number": 5,
       "text": [
        "0.491403876131"
       ]
      }
     ],
     "prompt_number": 5
    },
    {
     "cell_type": "markdown",
     "metadata": {},
     "source": [
      "On peut voir que $\\mathbb{P}_1(A_1)$ est superieur \u00e0 $\\mathbb{P}_2(A_2)$, mais par une petite quantit\u00e9."
     ]
    },
    {
     "cell_type": "code",
     "collapsed": false,
     "input": [
      "def p_a(n):\n",
      "    denom = 6**n\n",
      "    num = denom - 1\n",
      "    return 1 - (num/denom)**(2*denom/3)\n",
      "\n",
      "x = np.linspace(1,6)\n",
      "plt.plot(x, p_a(x))\n",
      "None"
     ],
     "language": "python",
     "metadata": {},
     "outputs": [
      {
       "metadata": {},
       "output_type": "display_data",
       "png": "[encoded data removed]",
       "text": [
        "<matplotlib.figure.Figure at 0x4fc3610>"
       ]
      }
     ],
     "prompt_number": 6
    },
    {
     "cell_type": "markdown",
     "metadata": {},
     "source": [
      "La limite de $\\mathbb{P}_n(A_n)$ lorsque $n$ tend vers l'infini a l'air d'\u00eatre un peu moins que 0.49.\n",
      "\n",
      "$$\\begin{aligned}\n",
      "\\lim_{n \\to \\infty} \\left[ 1 - \\left(\\frac{6^n-1}{6^n}\\right)^{\\frac{2}{3} n} \\right]\n",
      "\\end{aligned}$$\n"
     ]
    },
    {
     "cell_type": "code",
     "collapsed": false,
     "input": [
      "limit(p_a, inf)"
     ],
     "language": "python",
     "metadata": {},
     "outputs": [
      {
       "metadata": {},
       "output_type": "pyout",
       "prompt_number": 7,
       "text": [
        "mpf('0.48658288096740798')"
       ]
      }
     ],
     "prompt_number": 7
    },
    {
     "cell_type": "markdown",
     "metadata": {},
     "source": [
      "## Exercice 2 : Jeu du Blackjack\n",
      "\n",
      "$$\n",
      "\\Omega = \\{ 2,3,4,5,6,7,8,9,10, \\text{valet }(10), \\text{dame }(10), \\text{roi }(10), \\text{as }(1\\text{ ou }11) \\} \\times \\{ \\heartsuit, \\diamondsuit, \\clubsuit, \\spadesuit \\}\n",
      "$$\n",
      "\n",
      "On pioche deux cartes, sans replacement. On a trois cas : Deux as, un as et une autre carte, et deux non-as.\n",
      "\n",
      "$$\\begin{aligned}\n",
      "\\mathbb{P}(\\text{deux as}) &= \\frac{4}{52}\\frac{3}{51}\\\\\n",
      "\\mathbb{P}(\\text{as et un non-as}) &= \\frac{4}{52}\\frac{48}{51} + \\frac{48}{52}\\frac{4}{51} = 2\\left(\\frac{4}{52}\\frac{48}{51}\\right)\\\\\n",
      "\\mathbb{P}(\\text{deux non-as}) &= \\frac{48}{52}\\frac{47}{51}\n",
      "\\end{aligned}$$\n",
      "\n",
      "Si on pioche deux as, $\\mathbb{P}(\\text{blackjack} | \\text{deux as}) = 0$, car $1+1=2$, $1+11=12$ et $11+11=22$. Si on pioche un as, l'autre carte doit avoir une valeur de 10, et donc $\\mathbb{P}(\\text{blackjack} | \\text{un as et un non-as}) = \\frac{4}{12} = \\frac{1}{3}$. Et sans au moins un as, on ne peut pas ganger, donc on a $\\mathbb{P}(\\text{blackjack} | \\text{deux non-as}) = 0$.\n",
      "\n",
      "$$\\begin{aligned}\n",
      "\\mathbb{P}(\\text{blackjack}) = 0 + \\frac{2}{3}\\left(\\frac{4}{52}\\frac{48}{51}\\right) + 0\n",
      "\\end{aligned}$$"
     ]
    },
    {
     "cell_type": "code",
     "collapsed": false,
     "input": [
      "frac(2,3)*frac(4,52)*frac(48,51)"
     ],
     "language": "python",
     "metadata": {},
     "outputs": [
      {
       "latex": [
        "$$\\frac{32}{663}$$"
       ],
       "metadata": {},
       "output_type": "pyout",
       "png": "[encoded data removed]",
       "prompt_number": 8,
       "text": [
        " 32\n",
        "\u2500\u2500\u2500\n",
        "663"
       ]
      }
     ],
     "prompt_number": 8
    },
    {
     "cell_type": "markdown",
     "metadata": {},
     "source": [
      "Si le joueur a une dame de $\\spadesuit$ et un 5 de $\\clubsuit$, il faut qu'il re\u00e7oive une carte avec une valeur de 1, 2, 3, 4, 5, 6 ou 7 pour ne pas perdre. Il reste $4 \\cdot 7 - 1 = 27$ cartes sur 50 avec la valeur necessaire, et donc il a 27 chances sur 50 de ne pas perdre."
     ]
    },
    {
     "cell_type": "markdown",
     "metadata": {},
     "source": [
      "## Exercice 3 : La formule d\u2019inclusion-exclusion\n",
      "\n",
      "On veut d\u00e9montrer que :\n",
      "\n",
      "$$\n",
      "\\mathbb{P}(\\cup_{m=1}^{n} A_m) = \\sum_{k=1}^n (-1)^{k+1} p_k\n",
      "$$\n",
      "\n",
      "ou\n",
      "\n",
      "$$\n",
      "p_k = \\sum_{1 \\leq i_1 \\lt \\cdots \\lt i_k \\leq n} \\mathbb{P}(A_{i_1} \\cap \\cdots \\cap A_{i_k}).\n",
      "$$\n",
      "\n",
      "Quand $n$ est \u00e9gal \u00e0 1, on a\n",
      "\n",
      "$$\\begin{aligned}\n",
      "\\mathbb{P}(A_1) &= (-1)^2 \\mathbb{P}(A_1) \\\\\n",
      "                &= \\mathbb{P}(A_1).\n",
      "\\end{aligned}$$\n",
      "\n",
      "Quand $n$ est \u00e9gal \u00e0 2, on a\n",
      "\n",
      "$$\\begin{aligned}\n",
      "\\mathbb{P}(A_1 \\cup A_2) &= (-1)^2 (\\mathbb{P}(A_1) + \\mathbb{P}(A_2)) + (-1)^3(\\mathbb{P}(A_1 \\cap A_2)) \\\\\n",
      "                         &= \\mathbb{P}(A_1) + \\mathbb{P}(A_2) - \\mathbb{P}(A_1 \\cap A_2).\n",
      "\\end{aligned}$$\n",
      "\n",
      "Quand on ajoute $\\mathbb{P}(A_1)$ \u00e0 $\\mathbb{P}(A_2)$, on compte $\\mathbb{P}(A_1 \\cap A_2)$ deux fois, et il faut donc le soustraire.\n",
      "\n",
      "Soit $B$ \u00e9gal \u00e0 $\\cup_{m=1}^{n} A_m$. On peut voir que\n",
      "\n",
      "$$\\begin{aligned}\n",
      "\\mathbb{P}(B \\cup A_{n+1}) &= \\mathbb{P}(B) + \\mathbb{P}(A_{n+1}) - \\mathbb{P}(B \\cap A_{n+1}) \\\\\n",
      "  &= \\mathbb{P}(B) + \\mathbb{P}(A_{n+1}) - \\mathbb{P}(\\cup_{m=1}^{n} (A_m \\cap A_{n+1})) \\\\\n",
      "  &= \\left[\\sum_{k=1}^n (-1)^{k+1} p_k\\right] + \\mathbb{P}(A_{n+1}) - \\left[\\sum_{k=1}^n (-1)^{k+1} q_k\\right]\n",
      "\\end{aligned}$$\n",
      "\n",
      "ou\n",
      "\n",
      "$$\\begin{aligned}\n",
      "p_k &= \\sum_{1 \\leq i_1 \\lt \\cdots \\lt i_k \\leq n} \\mathbb{P}(A_{i_1} \\cap \\cdots \\cap A_{i_k}) & \\text{et}\\\\\n",
      "q_k &= \\sum_{1 \\leq i_1 \\lt \\cdots \\lt i_k \\leq n} \\mathbb{P}(A_{i_1} \\cap \\cdots \\cap A_{i_k} \\cap A_{n+1}).\n",
      "\\end{aligned}$$\n",
      "\n",
      "Et maintenant, on peut voir la correspondance entre nos deux sommations :\n",
      "\n",
      "$$\\begin{aligned}\n",
      "\\mathbb{P}(B \\cup A_{n+1}) &= p_1 + \\left[\\sum_{k=2}^{n} (-1)^{k+1} p_{k}\\right] + \\mathbb{P}(A_{n+1}) - \\left[\\sum_{k=1}^{n-1} (-1)^{k+1} q_k\\right] - (-1)^{n+1} q_n \\\\\n",
      "  &= p_1 + \\mathbb{P}(A_{n+1}) + \\left[\\sum_{k=2}^{n} (-1)^{k+1} p_{k}\\right] - \\left[\\sum_{k=2}^{n} (-1)^{k} q_{k-1}\\right] - (-1)^{n+1} q_n \\\\\n",
      "  &= p_1 + \\mathbb{P}(A_{n+1}) + \\left[\\sum_{k=2}^{n} (-1)^{k+1} p_{k}\\right] + \\left[\\sum_{k=2}^{n} (-1)^{k+1} q_{k-1}\\right] - (-1)^{n+1} q_n \\\\\n",
      "  &= \\left[\\sum_{i=1}^n \\mathbb{P}(A_i)\\right]- \\left[\\sum_{k=2}^{n} (-1)^{k+1} (p_{k} + q_{k-1})\\right] - (-1)^{n+1} \\mathbb{P}(A_{1} \\cap \\cdots \\cap A_{n+1}).\n",
      "\\end{aligned}$$\n",
      "\n",
      "Soit\n",
      "\n",
      "$$\\begin{aligned}\n",
      "r_k &= p_k + q_{k-1} \\\\\n",
      "  &= \\sum_{1 \\leq i_1 \\lt \\cdots \\lt i_k \\leq n} \\mathbb{P}(A_{i_1} \\cap \\cdots \\cap A_{i_k}) +\n",
      "     \\sum_{1 \\leq i_1 \\lt \\cdots \\lt i_{k-1} \\leq n} \\mathbb{P}(A_{i_1} \\cap \\cdots \\cap A_{i_{k-1}} \\cap A_{n+1}) \\\\\n",
      "  &= \\sum_{1 \\leq i_1 \\lt \\cdots \\lt i_k \\leq {n+1}} \\mathbb{P}(A_{i_1} \\cap \\cdots \\cap A_{i_k}).\n",
      "\\end{aligned}$$\n",
      "\n",
      "Cela nous donne\n",
      "\n",
      "$$\\begin{aligned}\n",
      "\\mathbb{P}(\\cup_{m=1}^{n+1} A_m) &= r_1 - \\left[\\sum_{k=2}^n (-1)^{k+1} r_k\\right] - (-1)^{n+1} r_{n+1} \\\\\n",
      "  &= (-1)^{1+1} r_1 - \\left[\\sum_{k=2}^n (-1)^{k+1} r_k\\right] + (-1)^{(n+1)+1} r_{n+1} \\\\\n",
      "  &= \\sum_{k=1}^{n+1} (-1)^{k+1} r_k,\n",
      "\\end{aligned}$$\n",
      "\n",
      "et on peut faire l'induction."
     ]
    },
    {
     "cell_type": "markdown",
     "metadata": {},
     "source": [
      "## Exercice 4 : Distribution al\u00e9atoire du courrier\n",
      "\n",
      "On va commencer avec un peu d'exploration, et trouver les valeurs correctes pour plusieurs $n$."
     ]
    },
    {
     "cell_type": "code",
     "collapsed": false,
     "input": [
      "from itertools import permutations\n",
      "\n",
      "# Les lettres et les bo\u00eetes ont les indices 0, 1, 2, etc.\n",
      "# Une lettre est dans bo\u00eete correcte quand les deux ont\n",
      "# la m\u00eame indice.\n",
      "def au_moins_une_lettre_correcte(lst):\n",
      "    for ind, val in enumerate(lst):\n",
      "        if ind == val:\n",
      "            return True\n",
      "    return False\n",
      "\n",
      "# Quand il y a N bo\u00eetes, quelle fraction des distributions sont correctes?\n",
      "def compter_distributions(n):\n",
      "    distributions = list(permutations(range(0,n)))\n",
      "    correctes = [d for d in distributions if au_moins_une_lettre_correcte(d)]\n",
      "    return [len(correctes), len(distributions)]\n",
      "\n",
      "map(compter_distributions, [1,2,3,4,5,6])"
     ],
     "language": "python",
     "metadata": {},
     "outputs": [
      {
       "latex": [
        "$$\\begin{bmatrix}\\begin{bmatrix}1, & 1\\end{bmatrix}, & \\begin{bmatrix}1, & 2\\end{bmatrix}, & \\begin{bmatrix}4, & 6\\end{bmatrix}, & \\begin{bmatrix}15, & 24\\end{bmatrix}, & \\begin{bmatrix}76, & 120\\end{bmatrix}, & \\begin{bmatrix}455, & 720\\end{bmatrix}\\end{bmatrix}$$"
       ],
       "metadata": {},
       "output_type": "pyout",
       "png": "[encoded data removed]",
       "prompt_number": 9,
       "text": [
        "[[1, 1], [1, 2], [4, 6], [15, 24], [76, 120], [455, 720]]"
       ]
      }
     ],
     "prompt_number": 9
    },
    {
     "cell_type": "markdown",
     "metadata": {},
     "source": [
      "H\u00e9las, il n'y a pas de motif simple ici."
     ]
    },
    {
     "cell_type": "code",
     "collapsed": false,
     "input": [
      "list(permutations(range(0,2)))"
     ],
     "language": "python",
     "metadata": {},
     "outputs": [
      {
       "latex": [
        "$$\\begin{bmatrix}\\begin{pmatrix}0, & 1\\end{pmatrix}, & \\begin{pmatrix}1, & 0\\end{pmatrix}\\end{bmatrix}$$"
       ],
       "metadata": {},
       "output_type": "pyout",
       "png": "[encoded data removed]",
       "prompt_number": 10,
       "text": [
        "[(0, 1), (1, 0)]"
       ]
      }
     ],
     "prompt_number": 10
    },
    {
     "cell_type": "code",
     "collapsed": false,
     "input": [
      "list(permutations(range(0,3)))"
     ],
     "language": "python",
     "metadata": {},
     "outputs": [
      {
       "latex": [
        "$$\\begin{bmatrix}\\begin{pmatrix}0, & 1, & 2\\end{pmatrix}, & \\begin{pmatrix}0, & 2, & 1\\end{pmatrix}, & \\begin{pmatrix}1, & 0, & 2\\end{pmatrix}, & \\begin{pmatrix}1, & 2, & 0\\end{pmatrix}, & \\begin{pmatrix}2, & 0, & 1\\end{pmatrix}, & \\begin{pmatrix}2, & 1, & 0\\end{pmatrix}\\end{bmatrix}$$"
       ],
       "metadata": {},
       "output_type": "pyout",
       "png": "[encoded data removed]",
       "prompt_number": 11,
       "text": [
        "[(0, 1, 2), (0, 2, 1), (1, 0, 2), (1, 2, 0), (2, 0, 1), (2, 1, 0)]"
       ]
      }
     ],
     "prompt_number": 11
    },
    {
     "cell_type": "code",
     "collapsed": false,
     "input": [
      "list(permutations(range(0,4)))"
     ],
     "language": "python",
     "metadata": {},
     "outputs": [
      {
       "latex": [
        "$$\\begin{bmatrix}\\begin{pmatrix}0, & 1, & 2, & 3\\end{pmatrix}, & \\begin{pmatrix}0, & 1, & 3, & 2\\end{pmatrix}, & \\begin{pmatrix}0, & 2, & 1, & 3\\end{pmatrix}, & \\begin{pmatrix}0, & 2, & 3, & 1\\end{pmatrix}, & \\begin{pmatrix}0, & 3, & 1, & 2\\end{pmatrix}, & \\begin{pmatrix}0, & 3, & 2, & 1\\end{pmatrix}, & \\begin{pmatrix}1, & 0, & 2, & 3\\end{pmatrix}, & \\begin{pmatrix}1, & 0, & 3, & 2\\end{pmatrix}, & \\begin{pmatrix}1, & 2, & 0, & 3\\end{pmatrix}, & \\begin{pmatrix}1, & 2, & 3, & 0\\end{pmatrix}, & \\begin{pmatrix}1, & 3, & 0, & 2\\end{pmatrix}, & \\begin{pmatrix}1, & 3, & 2, & 0\\end{pmatrix}, & \\begin{pmatrix}2, & 0, & 1, & 3\\end{pmatrix}, & \\begin{pmatrix}2, & 0, & 3, & 1\\end{pmatrix}, & \\begin{pmatrix}2, & 1, & 0, & 3\\end{pmatrix}, & \\begin{pmatrix}2, & 1, & 3, & 0\\end{pmatrix}, & \\begin{pmatrix}2, & 3, & 0, & 1\\end{pmatrix}, & \\begin{pmatrix}2, & 3, & 1, & 0\\end{pmatrix}, & \\begin{pmatrix}3, & 0, & 1, & 2\\end{pmatrix}, & \\begin{pmatrix}3, & 0, & 2, & 1\\end{pmatrix}, & \\begin{pmatrix}3, & 1, & 0, & 2\\end{pmatrix}, & \\begin{pmatrix}3, & 1, & 2, & 0\\end{pmatrix}, & \\begin{pmatrix}3, & 2, & 0, & 1\\end{pmatrix}, & \\begin{pmatrix}3, & 2, & 1, & 0\\end{pmatrix}\\end{bmatrix}$$"
       ],
       "metadata": {},
       "output_type": "pyout",
       "prompt_number": 12,
       "text": [
        "[(0, 1, 2, 3), (0, 1, 3, 2), (0, 2, 1, 3), (0, 2, 3, 1), (0, 3, 1, 2), (0, 3, \n",
        "2, 1), (1, 0, 2, 3), (1, 0, 3, 2), (1, 2, 0, 3), (1, 2, 3, 0), (1, 3, 0, 2), (\n",
        "1, 3, 2, 0), (2, 0, 1, 3), (2, 0, 3, 1), (2, 1, 0, 3), (2, 1, 3, 0), (2, 3, 0,\n",
        " 1), (2, 3, 1, 0), (3, 0, 1, 2), (3, 0, 2, 1), (3, 1, 0, 2), (3, 1, 2, 0), (3,\n",
        " 2, 0, 1), (3, 2, 1, 0)]"
       ]
      }
     ],
     "prompt_number": 12
    },
    {
     "cell_type": "markdown",
     "metadata": {},
     "source": [
      "Essayons les cycles de permutations:\n",
      "\n",
      "<pre>\n",
      "(1)(2)\n",
      "\n",
      "(1)(23)\n",
      "(2)(13)\n",
      "(3)(12)\n",
      "(1)(2)(3)\n",
      "\n",
      "(1)(234)\n",
      "(1)(243)\n",
      "(2)(134)\n",
      "(2)(143)\n",
      "(3)(124)\n",
      "(3)(142)\n",
      "(4)(123)\n",
      "(4)(132)\n",
      "(1)(2)(34)\n",
      "(1)(3)(24)\n",
      "(1)(4)(23)\n",
      "(2)(3)(14)\n",
      "(2)(4)(13)\n",
      "(3)(4)(12)\n",
      "(1)(2)(3)(4)\n",
      "</pre>\n",
      "\n",
      "Il faut compter les permutations avec les points fixes. Mais j'ai perdu plusieurs heures sans trouver la solution avant d'aller en ligne. Apparament, on peux utiliser la formule d\u2019inclusion-exclusion du troisi\u00e8me exercice pour cette t\u00e2che. Je recommence \u00e0 partir de \u00e7a.\n",
      "\n",
      "$$\\begin{aligned}\n",
      "\\Omega    &= \\text{ permutations de }n\\text{ objets} \\\\\n",
      "|\\Omega|  &= n! \\\\\n",
      "\\sigma(i) &= \\text{ la lettre qui est d\u00e9pos\u00e9e dans bo\u00eete }i \\\\\n",
      "A_i       &= \\text{ les permutations ou }\\sigma(i) = i \\\\\n",
      "\\mathbb{P}(\\cup_{m=1}^n A_m) &= \\sum_{k=1}^n (-1)^{k+1} p_k \\\\\n",
      "p_k &= \\sum_{1 \\leq i_1 \\lt \\cdots \\lt i_k \\leq n} \\mathbb{P}(A_{i_1} \\cap \\cdots \\cap A_{i_k}) \\\\\n",
      "    &= \\sum_{1 \\leq i_1 \\lt \\cdots \\lt i_k \\leq n} \\frac{(n-k)!}{|\\Omega|} \\\\\n",
      "    &= {n \\choose k} \\frac{(n-k)!}{n!} \\\\\n",
      "    &= \\frac{n!}{(n-k)!k!} \\cdot \\frac{(n-k)!}{n!} \\\\\n",
      "    &= \\frac{1}{k!} \\\\\n",
      "\\mathbb{P}(\\cup_{m=1}^n A_m) &= \\sum_{k=1}^n (-1)^{k+1} \\frac{1}{k!} \\\\\n",
      "\\mathbb{P}(\\cup_{m=1}^4 A_m) &= \\frac{1}{1!} - \\frac{1}{2!} + \\frac{1}{3!} - \\frac{1}{4!} \\\\\n",
      "\\end{aligned}$$\n",
      "\n",
      "### Verfication\n",
      "\n",
      "On veut voir 4, 15, 76, 455, comme on a trouver avec le code source ci-dessus."
     ]
    },
    {
     "cell_type": "code",
     "collapsed": false,
     "input": [
      "(frac(1,1) - frac(1,2) + frac(1,6) - frac(1,24)) * 24"
     ],
     "language": "python",
     "metadata": {},
     "outputs": [
      {
       "latex": [
        "$$15$$"
       ],
       "metadata": {},
       "output_type": "pyout",
       "png": "[encoded data removed]",
       "prompt_number": 13,
       "text": [
        "15"
       ]
      }
     ],
     "prompt_number": 13
    },
    {
     "cell_type": "code",
     "collapsed": false,
     "input": [
      "from sympy import binomial as bn, factorial as fact\n",
      "\n",
      "def probabilite_au_moins_une_correcte(n):\n",
      "  somme = 0\n",
      "  for k in range(1,n+1):\n",
      "    somme += (-1)**(k+1) * frac(1, fact(k))\n",
      "  return somme\n",
      "\n",
      "[fact(i) * probabilite_au_moins_une_correcte(i) for i in range(1,7)]"
     ],
     "language": "python",
     "metadata": {},
     "outputs": [
      {
       "latex": [
        "$$\\begin{bmatrix}1, & 1, & 4, & 15, & 76, & 455\\end{bmatrix}$$"
       ],
       "metadata": {},
       "output_type": "pyout",
       "png": "[encoded data removed]",
       "prompt_number": 14,
       "text": [
        "[1, 1, 4, 15, 76, 455]"
       ]
      }
     ],
     "prompt_number": 14
    },
    {
     "cell_type": "markdown",
     "metadata": {},
     "source": [
      "Le voil\u00e0 !\n",
      "\n",
      "### R\u00e9ponses\n",
      "\n",
      "La probabilit\u00e9 d'une distribution correcte est $\\frac{1}{n!}$. La probabilit\u00e9 qu'au moins une lettre parvienne au bon destinataire est donn\u00e9e par $\\mathbb{P}(\\cup_{m=1}^n A_m)$ ci-dessus. La probabilit\u00e9 qu'aucune lettre n'arrive au bon destinataire est $1-\\mathbb{P}(\\cup_{m=1}^n A_m)$. Et $d_n$ est \u00e9gal \u00e0 $n!(1-\\mathbb{P}(\\cup_{m=1}^n A_m))$."
     ]
    },
    {
     "cell_type": "code",
     "collapsed": false,
     "input": [],
     "language": "python",
     "metadata": {},
     "outputs": [],
     "prompt_number": 14
    }
   ],
   "metadata": {}
  }
 ]
}