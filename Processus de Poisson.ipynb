{
 "metadata": {
  "name": ""
 },
 "nbformat": 3,
 "nbformat_minor": 0,
 "worksheets": [
  {
   "cells": [
    {
     "cell_type": "markdown",
     "metadata": {},
     "source": [
      "# Processus de Poisson\n",
      "\n",
      "Bas\u00e9 sur [Poisson Process 1](https://fr.khanacademy.org/video?lang=fr&format=lite&v=31MoWKnPDaU).\n",
      "\n",
      "## D\u00e9finitions\n",
      "\n",
      "$X =$ le nombre de voitures qui passent en une heure. $X$ est une variable al\u00e9atoire.<br>\n",
      "$E(X) = \\lambda =$ l'esp\u00e9rance de X, ou le nombre moyen de voitures qui passent en une heure.\n",
      "\n",
      "## Calculs\n",
      "\n",
      "$\\lambda = np$, ou $n =$ le nombre de p\u00e9riodes et $p =$ le nombre moyen de voitures qui passent en une p\u00e9riode.\n",
      "\n",
      "Si $n = 60$, $\\lambda = 60\\frac{\\lambda}{60}$. Donc on a une distribution binomiale.\n",
      "\n",
      "$$P(X=k) = {60 \\choose k} \\left(\\frac{\\lambda}{60}\\right)^k \\left(1 - \\frac{\\lambda}{60}\\right)^{(60-k)}$$\n",
      "\n",
      "Mais $\\frac{\\lambda}{60}$ n'est pas une probabilit\u00e9, parce qu'il peut \u00eatre plus qu'un. <span style=\"color: red\">Alors \u00e7a marche comment ?</span>\n",
      "\n",
      "## Un peu de calcul infinit\u00e9simal\n",
      "\n",
      "Et maintenant, la vid\u00e9o a une \u00e9quation :\n",
      "\n",
      "$$\\lim_{x \\rightarrow \\infty}{\\left(1 + \\frac{a}{x}\\right)^x} = e^a$$\n",
      "\n",
      "Franchement, j'ai oubli\u00e9 tout \u00e7a. Il me faut r\u00e9viser cette limite avant de continuer.\n",
      "\n",
      "D'abord, je vais charger la biblioth\u00e8que `sympy`, qui peut faire les calculs formels (ou \u00ab symboliques \u00bb)."
     ]
    },
    {
     "cell_type": "code",
     "collapsed": false,
     "input": [
      "import sympy as sym\n",
      "sym.init_printing()"
     ],
     "language": "python",
     "metadata": {},
     "outputs": [],
     "prompt_number": 1
    },
    {
     "cell_type": "markdown",
     "metadata": {},
     "source": [
      "Puis on va construire une expression formelle :"
     ]
    },
    {
     "cell_type": "code",
     "collapsed": false,
     "input": [
      "a, x, y, z = sym.symbols(\"a, x, y, z\")\n",
      "expr = (1 + a/x)**x\n",
      "expr"
     ],
     "language": "python",
     "metadata": {},
     "outputs": [
      {
       "latex": [
        "$$\\left(\\frac{a}{x} + 1\\right)^{x}$$"
       ],
       "metadata": {},
       "output_type": "pyout",
       "png": "[encoded data removed]",
       "prompt_number": 2,
       "text": [
        "       x\n",
        "\u239ba    \u239e \n",
        "\u239c\u2500 + 1\u239f \n",
        "\u239dx    \u23a0 "
       ]
      }
     ],
     "prompt_number": 2
    },
    {
     "cell_type": "markdown",
     "metadata": {},
     "source": [
      "Et prendre la limite :"
     ]
    },
    {
     "cell_type": "code",
     "collapsed": false,
     "input": [
      "sym.limit(expr, x, sym.oo)"
     ],
     "language": "python",
     "metadata": {},
     "outputs": [
      {
       "latex": [
        "$$e^{a}$$"
       ],
       "metadata": {},
       "output_type": "pyout",
       "png": "[encoded data removed]",
       "prompt_number": 3,
       "text": [
        " a\n",
        "\u212f "
       ]
      }
     ],
     "prompt_number": 3
    },
    {
     "cell_type": "markdown",
     "metadata": {},
     "source": [
      "Merci, c'est tr\u00e8s gentil, mais je veux la comprendre. Il y a [une \u00e9xplication en anglais](http://au.answers.yahoo.com/question/index?qid=20100915005550AAFRaMD) sur Yahoo. Je vais utiliser \u00e7a.\n",
      "\n",
      "$$f = \\lim_{x \\rightarrow \\infty}{\\left(1 + \\frac{a}{x}\\right)^x}$$\n",
      "\n",
      "$$\\log{f} = \\log{\\lim_{x \\rightarrow \\infty}{\\left(1 + \\frac{a}{x}\\right)^x}}$$\n",
      "\n",
      "$$\\log{f} = \\lim_{x \\rightarrow \\infty}{x \\log{\\left(1 + \\frac{a}{x}\\right)}}$$\n",
      "\n",
      "Soit $y$ \u00e9gal \u00e0 $1/x$ :\n",
      "\n",
      "$$\\log{f} = \\lim_{y \\rightarrow 0}{\\frac{1}{y} \\log{\\left(1 + ay\\right)}}$$\n",
      "\n",
      "Et maintenant il nous faut la s\u00e9rie Taylor. Soit $z = -ay$ :"
     ]
    },
    {
     "cell_type": "code",
     "collapsed": false,
     "input": [
      "approx = sym.series(sym.log(1 - z))\n",
      "approx"
     ],
     "language": "python",
     "metadata": {},
     "outputs": [
      {
       "latex": [
        "$$- z - \\frac{z^{2}}{2} - \\frac{z^{3}}{3} - \\frac{z^{4}}{4} - \\frac{z^{5}}{5} + \\mathcal{O}\\left(z^{6}\\right)$$"
       ],
       "metadata": {},
       "output_type": "pyout",
       "png": "[encoded data removed]",
       "prompt_number": 4,
       "text": [
        "      2    3    4    5        \n",
        "     z    z    z    z     \u239b 6\u239e\n",
        "-z - \u2500\u2500 - \u2500\u2500 - \u2500\u2500 - \u2500\u2500 + O\u239dz \u23a0\n",
        "     2    3    4    5         "
       ]
      }
     ],
     "prompt_number": 4
    },
    {
     "cell_type": "code",
     "collapsed": false,
     "input": [
      "approx = approx.subs({z: -(a*y)})\n",
      "approx"
     ],
     "language": "python",
     "metadata": {},
     "outputs": [
      {
       "latex": [
        "$$a y - \\frac{a^{2} y^{2}}{2} + \\frac{a^{3} y^{3}}{3} - \\frac{a^{4} y^{4}}{4} + \\frac{a^{5} y^{5}}{5} + \\mathcal{O}\\left(a^{6} y^{6}\\right)$$"
       ],
       "metadata": {},
       "output_type": "pyout",
       "png": "[encoded data removed]",
       "prompt_number": 5,
       "text": [
        "       2  2    3  3    4  4    5  5           \n",
        "      a \u22c5y    a \u22c5y    a \u22c5y    a \u22c5y     \u239b 6  6\u239e\n",
        "a\u22c5y - \u2500\u2500\u2500\u2500\u2500 + \u2500\u2500\u2500\u2500\u2500 - \u2500\u2500\u2500\u2500\u2500 + \u2500\u2500\u2500\u2500\u2500 + O\u239da \u22c5y \u23a0\n",
        "        2       3       4       5             "
       ]
      }
     ],
     "prompt_number": 5
    },
    {
     "cell_type": "markdown",
     "metadata": {},
     "source": [
      "Et maintenant, utilisons l'$1/y$ dans :\n",
      "\n",
      "$$\\log{f} = \\lim_{y \\rightarrow 0}{\\frac{1}{y} \\log{\\left(1 + ay\\right)}}$$"
     ]
    },
    {
     "cell_type": "code",
     "collapsed": false,
     "input": [
      "sym.simplify((1/y) * approx)"
     ],
     "language": "python",
     "metadata": {},
     "outputs": [
      {
       "latex": [
        "$$a - \\frac{a^{2} y}{2} + \\frac{a^{3} y^{2}}{3} - \\frac{a^{4} y^{3}}{4} + \\frac{a^{5} y^{4}}{5} + \\mathcal{O}\\left(a^{6} y^{5}\\right)$$"
       ],
       "metadata": {},
       "output_type": "pyout",
       "png": "[encoded data removed]",
       "prompt_number": 6,
       "text": [
        "     2      3  2    4  3    5  4           \n",
        "    a \u22c5y   a \u22c5y    a \u22c5y    a \u22c5y     \u239b 6  5\u239e\n",
        "a - \u2500\u2500\u2500\u2500 + \u2500\u2500\u2500\u2500\u2500 - \u2500\u2500\u2500\u2500\u2500 + \u2500\u2500\u2500\u2500\u2500 + O\u239da \u22c5y \u23a0\n",
        "     2       3       4       5             "
       ]
      }
     ],
     "prompt_number": 6
    },
    {
     "cell_type": "markdown",
     "metadata": {},
     "source": [
      "Mais la limite de tous les termes avec $y$ est 0, et donc on a :\n",
      "\n",
      "$$log{f} = \\lim_{y \\rightarrow \\infty}{a} = a$$\n",
      "\n",
      "$$e^{log{f}} = f = e^a$$"
     ]
    },
    {
     "cell_type": "markdown",
     "metadata": {},
     "source": [
      "D'accord, alors j'y crois."
     ]
    },
    {
     "cell_type": "code",
     "collapsed": false,
     "input": [],
     "language": "python",
     "metadata": {},
     "outputs": [],
     "prompt_number": 6
    }
   ],
   "metadata": {}
  }
 ]
}