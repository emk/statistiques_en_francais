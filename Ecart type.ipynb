{
 "metadata": {
  "name": ""
 },
 "nbformat": 3,
 "nbformat_minor": 0,
 "worksheets": [
  {
   "cells": [
    {
     "cell_type": "markdown",
     "metadata": {},
     "source": [
      "# L'\u00c9cart type et la variance\n",
      "\n",
      "D'abord, une vid\u00e9o."
     ]
    },
    {
     "cell_type": "code",
     "collapsed": false,
     "input": [
      "from IPython.display import YouTubeVideo\n",
      "YouTubeVideo(\"RgH1XrzAd9M\")"
     ],
     "language": "python",
     "metadata": {},
     "outputs": [
      {
       "html": [
        "\n",
        "        <iframe\n",
        "            width=\"400\"\n",
        "            height=300\"\n",
        "            src=\"http://www.youtube.com/embed/RgH1XrzAd9M\"\n",
        "            frameborder=\"0\"\n",
        "            allowfullscreen\n",
        "        ></iframe>\n",
        "        "
       ],
       "metadata": {},
       "output_type": "pyout",
       "prompt_number": 1,
       "text": [
        "<IPython.lib.display.YouTubeVideo at 0x1b76b90>"
       ]
      }
     ],
     "prompt_number": 1
    },
    {
     "cell_type": "markdown",
     "metadata": {},
     "source": [
      "Et aussi deux articles sur Wikipedia:\n",
      "\n",
      "* [Variance][]\n",
      "* [\u00c9cart type](http://fr.wikipedia.org/wiki/%C3%89cart_type)\n",
      "\n",
      "[Variance]: (http://fr.wikipedia.org/wiki/Variance_(statistiques_et_probabilit%C3%A9s)\n",
      "\n",
      "## D\u00e9finitions\n",
      "\n",
      "$$\\begin{aligned}\n",
      "E(X)         &= \\frac{1}{n} \\sum_{i=1}^{n} X_i \\\\\n",
      "\\sigma_{X}^2 &= E\\left[(X - E(X))^2\\right] \\quad &\\text{la variance de }X \\\\\n",
      "\\sigma_{X}   &= \\sqrt{E\\left[(X - E(X))^2\\right]} \\quad &\\text{l'\u00e9cart type de }X\n",
      "\\end{aligned}$$\n",
      "\n",
      "Mais on peut trouver une forme plus facile \u00e0 manier.\n",
      "\n",
      "## Th\u00e9or\u00e8me de K\u00f6nig-Huygens\n",
      "\n",
      "On va d\u00e9duire le [th\u00e9or\u00e8me de K\u00f6nig-Huygens](http://fr.wikipedia.org/wiki/Th%C3%A9or%C3%A8me_de_K%C3%B6nig-Huyghens), qui va nous donner la forme la plus connue de l'\u00e9cart type.\n",
      "\n",
      "$$\\begin{aligned}\n",
      "\\sigma_{X}^2 &= E\\left[(X - E(X))^2\\right] \\\\\n",
      "             &= E\\left[X^2\\right] - E\\left[2XE(X)\\right] + E\\left[E(X)^2\\right] \\\\\n",
      "             &= E(X^2) - 2E(X)^2 + E(X)^2 \\\\\n",
      "             &= E(X^2) - E(X)^2 \\\\\n",
      "\\sigma_{X}   &= \\sqrt{E(X^2) - E(X)^2}\n",
      "\\end{aligned}$$\n",
      "\n",
      "## La variance\n",
      "\n",
      "Je veux savoir $\\newcommand{\\Var}{\\mathop{\\mathrm{Var}}}\\Var(aX+b)$ et $\\Var(X+Y)$.\n",
      "\n",
      "$$\\begin{aligned}\n",
      "\\Var(aX+b) &= E\\left[(aX+b)^2\\right] - E\\left[aX+b\\right]^2 \\\\\n",
      "           &= E\\left[a^2X^2+2abX+b^2\\right] - \\left(aE(x)+b\\right)^2 \\\\\n",
      "           &= a^2E(X^2)+2abE(X)+b^2 - \\left(a^2E(X)^2 + 2abE(X) + b^2\\right) \\\\\n",
      "           &= a^2E(X^2) - a^2E(X)^2 \\\\\n",
      "           &= a^2\\left(E(X^2) - E(X)^2\\right) \\\\\n",
      "           &= a^2\\Var(E^2)\n",
      "\\end{aligned}$$\n",
      "\n",
      "C'est peut-\u00eatre plus simple \u00e0 voir si on traite la $a$ et la $b$ ind\u00e9pendamment. Le $a$ va s'\u00e9chapper de $E\\left((ax)^2\\right) - E(ax)^2$, et les $b$s vont se neutraliser dans $E\\left((aX - E(aX))^2\\right)$.\n",
      "\n",
      "Or, pour $\\Var(X+Y)$, il nous faudra $\\newcommand{\\cov}{\\mathop{\\mathrm{cov}}}\\cov(X,Y)$. [Une d\u00e9finition](http://www.bibmath.net/formulaire/index.php?action=affiche&quoi=esperance).\n",
      "\n",
      "$$\\begin{aligned}\n",
      "\\cov(X,Y) &= E\\left[(X-E(X))(Y-E(Y))\\right] \\\\\n",
      "          &= E\\left[XY - XE(Y) - YE(X) + E(X)E(Y)\\right] \\\\\n",
      "          &= E(XY) - E\\left[XE(Y)\\right] - E\\left[YE(X)\\right] + E\\left[E(X)E(Y)\\right] \\\\\n",
      "          &= E(XY) - E(X)E(Y) - E(Y)E(X) + E(X)(Y) \\quad &A\\text{ et }E(B)\\text{ sont ind\u00e9pendants, m\u00eame si les variables ne le sont pas} \\\\\n",
      "          &= E(XY) - E(X)E(Y) \\\\\n",
      "E(XY)     &= \\cov(X,Y) + E(X)E(Y)\n",
      "\\end{aligned}$$\n",
      "\n",
      "Mais quand les variables $X$ et $Y$ sont ind\u00e9pendantes, $E(XY) = E(X)E(Y)$, et ainsi, on a $\\cov(X,Y) = 0$ dans ce cas.\n",
      "\n",
      "On continue avec $\\Var(X+Y)$.\n",
      "\n",
      "$$\\begin{aligned}\n",
      "\\Var(X+Y) &= E((X+Y)^2) - E(X+Y)^2 \\\\\n",
      "          &= E(X^2+2XY +Y^2) - (E(X)+E(Y))^2 \\\\\n",
      "          &= E(X^2)+2E(XY)+E(Y^2) - \\left(E(X)^2 + 2E(X)E(Y) + E(Y)^2)\\right) \\\\\n",
      "          &= \\left(E(X^2)-E(X)^2\\right) + \\left(E(Y^2)-E(Y)^2\\right) + 2\\left(E(XY)-E(X)E(Y)\\right) \\\\\n",
      "          &= \\Var(X) + \\Var(Y) + 2\\cov(X,Y)\n",
      "\\end{aligned}$$\n",
      "\n",
      "### La variance de $\\bar{X}_n$\n",
      "\n",
      "$$\\begin{aligned}\n",
      "\\Var(\\bar{X}_n) &= \\Var\\left[ \\frac{1}{n} \\sum_{k=1}^{n} X_n \\right] \\\\\n",
      "                &= \\frac{1}{n^2} \\sum_{k=1}^{n} \\Var(X_n) \\\\\n",
      "                &= \\frac{1}{n^2} n\\Var(X) \\\\\n",
      "                &= \\frac{\\Var(X)}{n}\n",
      "\\end{aligned}$$"
     ]
    }
   ],
   "metadata": {}
  }
 ]
}