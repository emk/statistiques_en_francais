{
 "metadata": {
  "name": ""
 },
 "nbformat": 3,
 "nbformat_minor": 0,
 "worksheets": [
  {
   "cells": [
    {
     "cell_type": "markdown",
     "metadata": {},
     "source": [
      "# \u00c9cart type\n",
      "\n",
      "D'abord, une vid\u00e9o."
     ]
    },
    {
     "cell_type": "code",
     "collapsed": false,
     "input": [
      "from IPython.display import YouTubeVideo\n",
      "YouTubeVideo(\"RgH1XrzAd9M\")"
     ],
     "language": "python",
     "metadata": {},
     "outputs": [
      {
       "html": [
        "\n",
        "        <iframe\n",
        "            width=\"400\"\n",
        "            height=300\"\n",
        "            src=\"http://www.youtube.com/embed/RgH1XrzAd9M\"\n",
        "            frameborder=\"0\"\n",
        "            allowfullscreen\n",
        "        ></iframe>\n",
        "        "
       ],
       "metadata": {},
       "output_type": "pyout",
       "prompt_number": 1,
       "text": [
        "<IPython.lib.display.YouTubeVideo at 0x3a2bb90>"
       ]
      }
     ],
     "prompt_number": 1
    },
    {
     "cell_type": "markdown",
     "metadata": {},
     "source": [
      "Et aussi deux articles sur Wikipedia:\n",
      "\n",
      "* [Variance][]\n",
      "* [\u00c9cart type](http://fr.wikipedia.org/wiki/%C3%89cart_type)\n",
      "\n",
      "[Variance]: (http://fr.wikipedia.org/wiki/Variance_(statistiques_et_probabilit%C3%A9s)\n",
      "\n",
      "## D\u00e9finitions\n",
      "\n",
      "$$\\begin{aligned}\n",
      "E(X)         &= \\frac{1}{n} \\sum_{i=1}^{n} X_i \\\\\n",
      "\\sigma_{X}^2 &= E\\left[(X - E(X))^2\\right] \\quad &\\text{la variance de }X \\\\\n",
      "\\sigma_{X}   &= \\sqrt{E\\left[(X - E(X))^2\\right]} \\quad &\\text{l'\u00e9cart type de }X\n",
      "\\end{aligned}$$\n",
      "\n",
      "Mais on peut trouver une forme plus facile \u00e0 manier.\n",
      "\n",
      "## Th\u00e9or\u00e8me de K\u00f6nig-Huygens\n",
      "\n",
      "On va d\u00e9duire le [th\u00e9or\u00e8me de K\u00f6nig-Huygens](http://fr.wikipedia.org/wiki/Th%C3%A9or%C3%A8me_de_K%C3%B6nig-Huyghens), qui va nous donner la forme la plus connue de l'\u00e9cart type.\n",
      "\n",
      "$$\\begin{aligned}\n",
      "\\sigma_{X}^2 &= E\\left[(X - E(X))^2\\right] \\\\\n",
      "             &= E\\left[X^2\\right] - E\\left[2XE(X)\\right] + E\\left[E(X)^2\\right] \\\\\n",
      "             &= E(X^2) - 2E(X)^2 + E(X)^2 \\\\\n",
      "             &= E(X^2) - E(X)^2 \\\\\n",
      "\\sigma_{X}   &= \\sqrt{E(X^2) - E(X)^2}\n",
      "\\end{aligned}$$\n",
      "\n"
     ]
    },
    {
     "cell_type": "code",
     "collapsed": false,
     "input": [],
     "language": "python",
     "metadata": {},
     "outputs": []
    }
   ],
   "metadata": {}
  }
 ]
}