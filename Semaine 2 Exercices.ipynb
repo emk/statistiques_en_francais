{
 "metadata": {
  "name": ""
 },
 "nbformat": 3,
 "nbformat_minor": 0,
 "worksheets": [
  {
   "cells": [
    {
     "cell_type": "code",
     "collapsed": false,
     "input": [
      "from sympy.interactive import printing\n",
      "printing.init_printing()\n",
      "import sympy as sym\n",
      "from sympy import Rational as frac, binomial, factorial as fact\n",
      "%pylab inline --no-import-all"
     ],
     "language": "python",
     "metadata": {},
     "outputs": [
      {
       "output_type": "stream",
       "stream": "stdout",
       "text": [
        "Populating the interactive namespace from numpy and matplotlib\n"
       ]
      }
     ],
     "prompt_number": 7
    },
    {
     "cell_type": "markdown",
     "metadata": {},
     "source": [
      "## 1. Le \u00ab paradoxe \u00bb des anniversaires\n",
      "\n",
      "Si il y a $n$ \u00e9l\u00e8ves, ou $n \\leq 365$, il faut choisir $n$ dates d'anniversaire, une pour chaque \u00e9l\u00e8ve. Il y a $365$ dates qui sont possibles. Donc, on a $365^n$ possibilit\u00e9s. Mais si on veut avoir une classe o\u00f9 chaque date est unique, il faut choisir $n$ dates differentes de 365 possibilit\u00e9s. Donc on a $365 \\times 364 \\times \\cdots \\times (365-n+1)$ possibilit\u00e9s. \u00c7a nous donne une probabilit\u00e9 de\n",
      "\n",
      "$$\\frac{365!}{(365-n)! \\cdot 365^n}$$\n",
      "\n",
      "que chaque \u00e9l\u00e8ve a un anniversaire different, et\n",
      "\n",
      "$$1-\\frac{365!}{(365-n)! \\cdot 365^n}$$\n",
      "\n",
      "qu'il y a au moins deux \u00e9l\u00e8ves avec la m\u00eame date d'anniversaire."
     ]
    },
    {
     "cell_type": "code",
     "collapsed": false,
     "input": [
      "def prob_deux_avec_la_meme_date(n):\n",
      "    return 1-frac(fact(365), fact(365-n) * 365**n)\n",
      "float(prob_deux_avec_la_meme_date(23))"
     ],
     "language": "python",
     "metadata": {},
     "outputs": [
      {
       "latex": [
        "$$0.507297234324$$"
       ],
       "metadata": {},
       "output_type": "pyout",
       "png": "[encoded data removed]",
       "prompt_number": 10,
       "text": [
        "0.507297234324"
       ]
      }
     ],
     "prompt_number": 10
    },
    {
     "cell_type": "markdown",
     "metadata": {},
     "source": [
      "## 2. Deux mani\u00e8res de tirer sans remise\n",
      "\n",
      "$N$ boules dans la urne, dont $N_1$ sont rouges.\n",
      "\n",
      "### Les $n$ boules sont tir\u00e9es ensemble, d\u2019un seul coup.\n",
      "\n",
      "Soit $\\Omega$ \u00e9gal \u00e0 toutes les parties \u00e0 $n$ boules tir\u00e9es d'une urne qui contient $N$ boules. On a $|\\Omega| = {N \\choose n}$. Pour tirer $n_1$ boules rouges, il faut choisir $n_1$ boules parmi les $N_1$ boules qui sont rouges, et $n-n_1$ boules parmi celles qui ne le sont pas. Cela nous donne la \u00ab loi hyperg\u00e9om\u00e9trique \u00bb :\n",
      "\n",
      "$$ h(n_1) = \\frac{{N_1 \\choose n_1}{N-N_1 \\choose n-n_1}}{N \\choose n} $$\n",
      "\n",
      "### Cette fois-ci, les $n$ boules sont tir\u00e9es successivement, l\u2019une apr\u00e8s l\u2019autre.\n",
      "\n",
      "Ce n'est pas evident ! Mais essayons.\n",
      "\n",
      "On va choisir $n$ boules, dont $n_1$ rouges et $n-n_1$ autres. Pour la pr\u00e8miere boule, on a une chance de $N_1$ sur $N$ de tirer une balle rouge, et de $N-N_1$ sur $N$ de tirer une autre balle.\n",
      "\n",
      "1. Si on a choisi une balle rouges, les probabilit\u00e9s pour le deuxi\u00e8me tirage seront $\\frac{N_1-1}{N-1}$ et $\\frac{N-N_1}{N-1}$.\n",
      "2. Autrement, elles seront $\\frac{N_1}{N-1}$ et $\\frac{N-N_1-1}{N-1}$.\n",
      "\n",
      "On peut voir ici que on va avoir $n$ facteurs. Les d\u00e9nominateur seront $(N)(N-1)\\cdots(N-n+1)$. On va pouvouir r\u00e9organiser les num\u00e9rateurs pour avoir $(N_1)(N_1-1)\\cdots(N_1-n_1+1)$ et $(N-N_1)((N-N_1)-1)\\cdots((N-N_1)-(n-n_1)+1)$. Mais si on a $n_1$ qui sont rouges parmi $n$, il y a aussi ${n \\choose n_1} orders possibles pour nos num\u00e9rateurs. Cela nous donne\n",
      "\n",
      "$$ h'(n_1) = {n \\choose n_1} \\frac{(N-n)!}{N!} \\frac{N_1!}{(N_1-n_1)!} \\frac{(N - N_1)!}{((N-N_1)-(n-n_1))!}. $$\n",
      "\n",
      "### V\u00e9rifier que $h(n_1) = h'(n_1)$ pour $0 \\leq n_1 \\leq n$, par le calcul et par un argument combinatoire.\n",
      "\n",
      "$$\\begin{aligned}\n",
      "h(n_1) &= \\frac{{N_1 \\choose n_1}{N-N_1 \\choose n-n_1}}{N \\choose n} \\\\\n",
      " &= \\frac{N_1!}{n_1!(N_1-n_1)!}\n",
      "    \\frac{(N-N_1)!}{(n-n_1)!((N-N_1)-(n-n_1))!}\n",
      "    \\frac{n!(N-n)!}{N!} \\\\\n",
      " &= \\frac{n!}{n_1!(n-n_1)!}\n",
      "    \\frac{(N-n)!}{N!}\n",
      "    \\frac{N_1!}{(N_1-n_1)!}\n",
      "    \\frac{(N-N_1)!}{((N-N_1)-(n-n_1))!} \\\\\n",
      " &= {n \\choose n_1}\n",
      "    \\frac{(N-n)!}{N!}\n",
      "    \\frac{N_1!}{(N_1-n_1)!}\n",
      "    \\frac{(N-N_1)!}{((N-N_1)-(n-n_1))!} \\\\\n",
      " &= h'(n_1)\n",
      "\\end{aligned}$$"
     ]
    },
    {
     "cell_type": "code",
     "collapsed": false,
     "input": [],
     "language": "python",
     "metadata": {},
     "outputs": []
    }
   ],
   "metadata": {}
  }
 ]
}