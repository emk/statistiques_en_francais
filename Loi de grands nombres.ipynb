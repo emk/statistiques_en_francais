{
 "metadata": {
  "name": ""
 },
 "nbformat": 3,
 "nbformat_minor": 0,
 "worksheets": [
  {
   "cells": [
    {
     "cell_type": "markdown",
     "metadata": {},
     "source": [
      "# Loi de grands nombres\n",
      "\n",
      "Comme d'habitude, on a un [article sur Wikipedia](http://fr.wikipedia.org/wiki/Loi_des_grands_nombres) et une vid\u00e9o de l'Acad\u00e9mie Khan."
     ]
    },
    {
     "cell_type": "code",
     "collapsed": false,
     "input": [
      "from IPython.display import HTML, YouTubeVideo\n",
      "def IFrame(url, width=800, height=400):\n",
      "    return HTML(\"<iframe src='{0}' width={1} height={2}></iframe>\".format(url, width, height))\n",
      "    \n",
      "IFrame(\"http://fr.m.wikipedia.org/wiki/Loi_des_grands_nombres\")"
     ],
     "language": "python",
     "metadata": {},
     "outputs": [
      {
       "html": [
        "<iframe src='http://fr.m.wikipedia.org/wiki/Loi_des_grands_nombres' width=800 height=400></iframe>"
       ],
       "metadata": {},
       "output_type": "pyout",
       "prompt_number": 1,
       "text": [
        "<IPython.core.display.HTML at 0x2529dd0>"
       ]
      }
     ],
     "prompt_number": 1
    },
    {
     "cell_type": "code",
     "collapsed": false,
     "input": [
      "YouTubeVideo(\"Af6Lm9OV2Dc\")"
     ],
     "language": "python",
     "metadata": {},
     "outputs": [
      {
       "html": [
        "\n",
        "        <iframe\n",
        "            width=\"400\"\n",
        "            height=300\"\n",
        "            src=\"http://www.youtube.com/embed/Af6Lm9OV2Dc\"\n",
        "            frameborder=\"0\"\n",
        "            allowfullscreen\n",
        "        ></iframe>\n",
        "        "
       ],
       "metadata": {},
       "output_type": "pyout",
       "prompt_number": 2,
       "text": [
        "<IPython.lib.display.YouTubeVideo at 0x252b450>"
       ]
      }
     ],
     "prompt_number": 2
    },
    {
     "cell_type": "markdown",
     "metadata": {},
     "source": [
      "$$\\begin{aligned}\n",
      "\\bar{X}_n &= \\frac{X_1 + X_2 + \\cdots + X_n}{n} \\\\\n",
      "\\bar{X}_n &\\rightarrow E(X) \\quad &\\text{quand }n\\rightarrow\\infty\n",
      "\\end{aligned}$$\n",
      "\n",
      "## Loi faible des grands nombres\n",
      "\n",
      "La preuve math\u00e9matique de la loi faible est vraiment moins difficile que celle de la loi forte."
     ]
    },
    {
     "cell_type": "code",
     "collapsed": false,
     "input": [
      "IFrame(\"http://fr.m.wikipedia.org/wiki/Loi_des_grands_nombres#Loi_faible_des_grands_nombres\")"
     ],
     "language": "python",
     "metadata": {},
     "outputs": [
      {
       "html": [
        "<iframe src='http://fr.m.wikipedia.org/wiki/Loi_des_grands_nombres#Loi_faible_des_grands_nombres' width=800 height=400></iframe>"
       ],
       "metadata": {},
       "output_type": "pyout",
       "prompt_number": 3,
       "text": [
        "<IPython.core.display.HTML at 0x252b4d0>"
       ]
      }
     ],
     "prompt_number": 3
    },
    {
     "cell_type": "markdown",
     "metadata": {},
     "source": [
      "$$\\forall \\varepsilon > 0, \\lim_{n\\rightarrow +\\infty}{P\\left(\\left|\\frac{X_1 + X_2 + \\cdots + X_n}{n} - E(X)\\right|\\geqslant \\varepsilon\\right)} = 0$$\n",
      "\n",
      "Pour prouver cette loi, il nous faudra l'[In\u00e9galit\u00e9 de Bienaym\u00e9-Techebychev](http://fr.wikipedia.org/wiki/In%C3%A9galit%C3%A9_de_Markov#Corollaire) :\n",
      "\n",
      "$$P(|Y-E(Y)| \\geqslant \\varepsilon) \\leqslant \\frac{V(Y)}{\\varepsilon^2}$$\n",
      "\n",
      "Et pour prouver \u00e7a, on aurait besoin de l'[In\u00e9galite de Markov](http://fr.wikipedia.org/wiki/In%C3%A9galit%C3%A9_de_Markov). Mais une chose \u00e0 la fois.\n",
      "\n",
      "On va introduire $\\bar{X}_n$ comme suit : \n",
      "\n",
      "$$\\begin{aligned}\n",
      "Y &= \\bar{X}_n \\\\\n",
      "\\bar{X}_n &= \\frac{X_1 + X_2 + \\cdots + X_n}{n} \\\\\n",
      "E(\\bar{X}_n) &= E(X) \\quad &\\text{(ci-dessous)} \\\\\n",
      "V(\\bar{X}_n) &= \\frac{V(X)}{n} \\quad &\\text{(dans le notebook \u00ab \u00c9cart type \u00bb)}\n",
      "\\end{aligned}$$\n",
      "\n",
      "Ainsi, on a :\n",
      "\n",
      "$$P\\left(\\left|\\frac{X_1 + X_2 + \\cdots + X_n}{n} - E(X)\\right|\\geqslant \\varepsilon\\right) = \\frac{V(X)}{n\\varepsilon^2}$$\n",
      "\n",
      "Et plusieurs d\u00e9tails pour me convaincre :\n",
      "\n",
      "$$\\begin{aligned}\n",
      "E(\\bar{X}_n) &= E\\left[\\frac{X_1 + X_2 + \\cdots + X_n}{n}\\right] \\\\\n",
      "             &= \\frac{E(X_1) + E(X_2) + \\cdots + E(X_n)}{n} \\\\\n",
      "             &= \\frac{nE(X)}{n} \\\\\n",
      "             &= E(X)\n",
      "\\end{aligned}$$\n",
      "\n",
      "## Loi forte des grands nombres\n",
      "\n",
      "La voil\u00e0 :"
     ]
    },
    {
     "cell_type": "code",
     "collapsed": false,
     "input": [
      "IFrame(\"http://fr.m.wikipedia.org/wiki/Loi_forte_des_grands_nombres\")"
     ],
     "language": "python",
     "metadata": {},
     "outputs": [
      {
       "html": [
        "<iframe src='http://fr.m.wikipedia.org/wiki/Loi_forte_des_grands_nombres' width=800 height=400></iframe>"
       ],
       "metadata": {},
       "output_type": "pyout",
       "prompt_number": 4,
       "text": [
        "<IPython.core.display.HTML at 0x252b310>"
       ]
      }
     ],
     "prompt_number": 4
    }
   ],
   "metadata": {}
  }
 ]
}